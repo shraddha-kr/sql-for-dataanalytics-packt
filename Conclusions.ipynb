{
 "cells": [
  {
   "cell_type": "markdown",
   "id": "serious-thesaurus",
   "metadata": {},
   "source": [
    "#### Conclusions\n",
    "We have collected a range of information about the timing of the product\n",
    "launches, the sales prices of the products, and the marketing campaigns, we can make\n",
    "some conclusions regarding our hypotheses"
   ]
  },
  {
   "cell_type": "markdown",
   "id": "artificial-electronics",
   "metadata": {},
   "source": [
    "##### Launch Timing Analysis\n",
    "We gathered some evidence to suggest that\n",
    "launch timing could be related to the reduction in sales after the first 2 weeks,\n",
    "although this cannot be proven."
   ]
  },
  {
   "cell_type": "markdown",
   "id": "expected-builder",
   "metadata": {},
   "source": [
    "##### Analyzing the Difference in the Sales Price Hypothesis\n",
    "There is a correlation between the initial sales rate and the sales price of the\n",
    "scooter, with a reduced-sales price trending with a high sales rate"
   ]
  },
  {
   "cell_type": "markdown",
   "id": "harmful-harvard",
   "metadata": {},
   "source": [
    "##### Analyzing the Difference in the Sales Price Hypothesis\n",
    "The number of units sold in the first 3 weeks does not directly correlate to the\n",
    "sale price of the product."
   ]
  },
  {
   "cell_type": "markdown",
   "id": "current-replica",
   "metadata": {},
   "source": [
    "There is evidence to suggest that a successful marketing campaign could increase\n",
    "the initial sales rate, with an increased email opening rate trending with an\n",
    "increased sales rate **(Analyzing Sales Growth by Email Opening Rate)**.\n",
    "Similarly, an increase in the number of customers receiving email trends with\n",
    "increased sales **(Analyzing the Performance of the Email Marketing\n",
    "Campaign)**."
   ]
  },
  {
   "cell_type": "markdown",
   "id": "through-miami",
   "metadata": {},
   "source": [
    "#### Analyzing the Difference in the Sales Price Hypothesis\n",
    "The Bat Scooter sold more units in the first 3 weeks than the Lemon or Bat Limited\n",
    "Scooters"
   ]
  }
 ],
 "metadata": {
  "hide_input": false,
  "kernelspec": {
   "display_name": "Python 3",
   "language": "python",
   "name": "python3"
  },
  "language_info": {
   "codemirror_mode": {
    "name": "ipython",
    "version": 3
   },
   "file_extension": ".py",
   "mimetype": "text/x-python",
   "name": "python",
   "nbconvert_exporter": "python",
   "pygments_lexer": "ipython3",
   "version": "3.7.9"
  },
  "latex_envs": {
   "LaTeX_envs_menu_present": true,
   "autoclose": false,
   "autocomplete": true,
   "bibliofile": "biblio.bib",
   "cite_by": "apalike",
   "current_citInitial": 1,
   "eqLabelWithNumbers": true,
   "eqNumInitial": 1,
   "hotkeys": {
    "equation": "Ctrl-E",
    "itemize": "Ctrl-I"
   },
   "labels_anchors": false,
   "latex_user_defs": false,
   "report_style_numbering": false,
   "user_envs_cfg": false
  },
  "toc": {
   "base_numbering": 1,
   "nav_menu": {},
   "number_sections": true,
   "sideBar": true,
   "skip_h1_title": false,
   "title_cell": "Table of Contents",
   "title_sidebar": "Contents",
   "toc_cell": false,
   "toc_position": {},
   "toc_section_display": true,
   "toc_window_display": false
  },
  "varInspector": {
   "cols": {
    "lenName": 16,
    "lenType": 16,
    "lenVar": 40
   },
   "kernels_config": {
    "python": {
     "delete_cmd_postfix": "",
     "delete_cmd_prefix": "del ",
     "library": "var_list.py",
     "varRefreshCmd": "print(var_dic_list())"
    },
    "r": {
     "delete_cmd_postfix": ") ",
     "delete_cmd_prefix": "rm(",
     "library": "var_list.r",
     "varRefreshCmd": "cat(var_dic_list()) "
    }
   },
   "types_to_exclude": [
    "module",
    "function",
    "builtin_function_or_method",
    "instance",
    "_Feature"
   ],
   "window_display": false
  }
 },
 "nbformat": 4,
 "nbformat_minor": 5
}
